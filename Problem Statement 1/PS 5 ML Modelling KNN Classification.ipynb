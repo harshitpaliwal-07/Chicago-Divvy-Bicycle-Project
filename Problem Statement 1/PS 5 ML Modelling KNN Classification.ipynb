{
 "cells": [
  {
   "cell_type": "code",
   "execution_count": 30,
   "metadata": {},
   "outputs": [],
   "source": [
    "import numpy as np\n",
    "import pandas as pd\n",
    "import matplotlib.pyplot as plt\n",
    "import seaborn as sns\n",
    "import gc, os\n",
    "\n",
    "\n",
    "from sklearn.neighbors import KNeighborsClassifier\n",
    "#import metrics model to check the accuracy \n",
    "from sklearn import metrics\n",
    "from sklearn.linear_model import LinearRegression\n",
    "from sklearn.ensemble import RandomForestRegressor\n",
    "from sklearn.neighbors import KNeighborsRegressor\n",
    "from sklearn.svm import SVC\n",
    "from sklearn.linear_model import LogisticRegression\n",
    "from sklearn.naive_bayes import GaussianNB\n",
    "from sklearn.model_selection import train_test_split"
   ]
  },
  {
   "cell_type": "code",
   "execution_count": 2,
   "metadata": {},
   "outputs": [],
   "source": [
    "q2_stations0 = pd.read_csv(\"C:/DPA Project/chunk0.csv\")\n",
    "q2_stations1 = pd.read_csv(\"C:/DPA Project/chunk1.csv\")\n",
    "q2_stations2 = pd.read_csv(\"C:/DPA Project/chunk2.csv\")\n",
    "q2_stations3 = pd.read_csv(\"C:/DPA Project/chunk3.csv\")\n",
    "q2_stations4 = pd.read_csv(\"C:/DPA Project/chunk4.csv\")\n",
    "q2_stations5 = pd.read_csv(\"C:/DPA Project/chunk5.csv\")\n",
    "q2_stations6 = pd.read_csv(\"C:/DPA Project/chunk6.csv\")\n",
    "q2_stations7 = pd.read_csv(\"C:/DPA Project/chunk7.csv\")\n",
    "q2_stations8 = pd.read_csv(\"C:/DPA Project/chunk8.csv\")\n",
    "q2_stations9 = pd.read_csv(\"C:/DPA Project/chunk9.csv\")"
   ]
  },
  {
   "cell_type": "code",
   "execution_count": 3,
   "metadata": {},
   "outputs": [],
   "source": [
    "## Concatenate all 3 years of data\n",
    "q2_stations = pd.concat([q2_stations0, q2_stations1, q2_stations2, q2_stations3,q2_stations4, q2_stations5, q2_stations6, q2_stations7, q2_stations8,q2_stations9])"
   ]
  },
  {
   "cell_type": "code",
   "execution_count": 4,
   "metadata": {},
   "outputs": [],
   "source": [
    "q2_stations['tripduration'] = q2_stations['tripduration']/60"
   ]
  },
  {
   "cell_type": "code",
   "execution_count": 5,
   "metadata": {},
   "outputs": [],
   "source": [
    "q2_stations = q2_stations[q2_stations['tripduration'] < 50]  "
   ]
  },
  {
   "cell_type": "code",
   "execution_count": 6,
   "metadata": {},
   "outputs": [],
   "source": [
    "q2_stations = q2_stations.dropna()"
   ]
  },
  {
   "cell_type": "code",
   "execution_count": 9,
   "metadata": {},
   "outputs": [],
   "source": [
    "## Convert the 'start_time' column to a datetime object\n",
    "q2_stations['start_time'] = pd.to_datetime(q2_stations['start_time'])"
   ]
  },
  {
   "cell_type": "code",
   "execution_count": 10,
   "metadata": {},
   "outputs": [
    {
     "name": "stderr",
     "output_type": "stream",
     "text": [
      "C:\\ProgramData\\Anaconda3\\lib\\site-packages\\ipykernel_launcher.py:3: SettingWithCopyWarning: \n",
      "A value is trying to be set on a copy of a slice from a DataFrame.\n",
      "Try using .loc[row_indexer,col_indexer] = value instead\n",
      "\n",
      "See the caveats in the documentation: http://pandas.pydata.org/pandas-docs/stable/user_guide/indexing.html#returning-a-view-versus-a-copy\n",
      "  This is separate from the ipykernel package so we can avoid doing imports until\n",
      "C:\\ProgramData\\Anaconda3\\lib\\site-packages\\ipykernel_launcher.py:5: SettingWithCopyWarning: \n",
      "A value is trying to be set on a copy of a slice from a DataFrame.\n",
      "Try using .loc[row_indexer,col_indexer] = value instead\n",
      "\n",
      "See the caveats in the documentation: http://pandas.pydata.org/pandas-docs/stable/user_guide/indexing.html#returning-a-view-versus-a-copy\n",
      "  \"\"\"\n"
     ]
    }
   ],
   "source": [
    "split_date = pd.datetime(2018,12,31)\n",
    "df_train = q2_stations.loc[q2_stations['start_time'] <= split_date]\n",
    "df_train['trips_per_day'] = df_train.trips / 365\n",
    "df_test = q2_stations.loc[q2_stations['start_time'] > split_date]\n",
    "df_test['trips_per_day'] = df_test.trips / 365"
   ]
  },
  {
   "cell_type": "code",
   "execution_count": null,
   "metadata": {},
   "outputs": [],
   "source": [
    "#get correlations of each features in dataset\n",
    "corrmat = q2_stations.corr()\n",
    "top_corr_features = corrmat.index\n",
    "plt.figure(figsize=(20,20))\n",
    "#plot heat map\n",
    "g=sns.heatmap(q2_stations[top_corr_features].corr(),annot=True,cmap=\"RdYlGn\")"
   ]
  },
  {
   "cell_type": "code",
   "execution_count": null,
   "metadata": {},
   "outputs": [],
   "source": [
    "INDICATOR = 'total_docks'\n",
    "features = ['tripduration', 'to_station_id','to_longitude','from_longitude','revenue','hour']\n",
    "X_train = df_train[features]\n",
    "y_train = df_train[INDICATOR]\n",
    "X_test = df_test[features]\n",
    "y_test = df_test[INDICATOR]"
   ]
  },
  {
   "cell_type": "code",
   "execution_count": 47,
   "metadata": {},
   "outputs": [],
   "source": [
    "error_rate = []\n",
    "# Will take some time\n",
    "for i in range(1,20):\n",
    " \n",
    " knn = KNeighborsClassifier(n_neighbors=i)\n",
    " knn.fit(X_train,y_train)\n",
    " pred_i = knn.predict(X_test)\n",
    " error_rate.append(np.mean(pred_i != y_test))"
   ]
  },
  {
   "cell_type": "code",
   "execution_count": 48,
   "metadata": {},
   "outputs": [
    {
     "data": {
      "text/plain": [
       "Text(0, 0.5, 'Error Rate')"
      ]
     },
     "execution_count": 48,
     "metadata": {},
     "output_type": "execute_result"
    },
    {
     "data": {
      "image/png": "[encoded data removed]",
      "text/plain": [
       "<Figure size 720x432 with 1 Axes>"
      ]
     },
     "metadata": {
      "needs_background": "light"
     },
     "output_type": "display_data"
    }
   ],
   "source": [
    "plt.figure(figsize=(10,6))\n",
    "plt.plot(range(1,20),error_rate,color= 'blue', linestyle='dashed', marker='o',\n",
    " markerfacecolor='red', markersize=10)\n",
    "plt.title('Error Rate vs. K Value')\n",
    "plt.xlabel('K')\n",
    "plt.ylabel('Error Rate')"
   ]
  },
  {
   "cell_type": "code",
   "execution_count": 49,
   "metadata": {},
   "outputs": [],
   "source": [
    "# NOW WITH K=3\n",
    "knn = KNeighborsClassifier(n_neighbors=2)"
   ]
  },
  {
   "cell_type": "code",
   "execution_count": 50,
   "metadata": {},
   "outputs": [],
   "source": [
    "knn.fit(X_train,y_train)\n",
    "pred = knn.predict(X_test)\n"
   ]
  },
  {
   "cell_type": "code",
   "execution_count": 51,
   "metadata": {},
   "outputs": [
    {
     "data": {
      "text/plain": [
       "0.3002359186851256"
      ]
     },
     "execution_count": 51,
     "metadata": {},
     "output_type": "execute_result"
    }
   ],
   "source": [
    "scores = metrics.accuracy_score(y_test,pred)\n",
    "scores"
   ]
  },
  {
   "cell_type": "code",
   "execution_count": 59,
   "metadata": {},
   "outputs": [],
   "source": [
    "import pickle\n",
    "filename = 'C:/DPA Project/knn_model.sav'\n",
    "pickle.dump(knn, open(filename, 'wb'))"
   ]
  },
  {
   "cell_type": "code",
   "execution_count": 60,
   "metadata": {},
   "outputs": [],
   "source": [
    "df_test[\"predicted_docks\"] = pred"
   ]
  },
  {
   "cell_type": "code",
   "execution_count": 62,
   "metadata": {},
   "outputs": [],
   "source": [
    "#Difference between existing and predicted docs\n",
    "\n",
    "df_test[\"dock_diff\"] = df_test[\"total_docks\"] - df_test[\"predicted_docks\"]"
   ]
  },
  {
   "cell_type": "code",
   "execution_count": 63,
   "metadata": {},
   "outputs": [],
   "source": [
    "df_test['abs_dock_diff'] = df_test['dock_diff'].abs()"
   ]
  },
  {
   "cell_type": "code",
   "execution_count": 64,
   "metadata": {},
   "outputs": [],
   "source": [
    "df_test1 = df_test.sort_values('abs_dock_diff', ascending=False).drop_duplicates(['from_station_id'])"
   ]
  },
  {
   "cell_type": "code",
   "execution_count": 65,
   "metadata": {},
   "outputs": [],
   "source": [
    "#Assuming each dock setup in a station costs $400\n",
    "m = df_test1.groupby(['from_station_id']).agg({'dock_diff':sum})"
   ]
  },
  {
   "cell_type": "code",
   "execution_count": 66,
   "metadata": {},
   "outputs": [],
   "source": [
    "#Cost of setting up all the extra docks assuming each single dock costs company $400\n",
    "\n",
    "m['cost'] = m['dock_diff']*400"
   ]
  },
  {
   "cell_type": "code",
   "execution_count": 67,
   "metadata": {},
   "outputs": [
    {
     "data": {
      "text/plain": [
       "-6355600.0"
      ]
     },
     "execution_count": 67,
     "metadata": {},
     "output_type": "execute_result"
    }
   ],
   "source": [
    "total = m['cost'].sum()\n",
    "total"
   ]
  },
  {
   "cell_type": "code",
   "execution_count": 69,
   "metadata": {},
   "outputs": [],
   "source": [
    "station_data = pd.read_csv(\"C:/DPA Project/data/Divvy_Bicycle_Stations.csv\")"
   ]
  },
  {
   "cell_type": "code",
   "execution_count": 70,
   "metadata": {},
   "outputs": [
    {
     "name": "stderr",
     "output_type": "stream",
     "text": [
      "C:\\ProgramData\\Anaconda3\\lib\\site-packages\\ipykernel_launcher.py:1: FutureWarning: The join_axes-keyword is deprecated. Use .reindex or .reindex_like on the result to achieve the same functionality.\n",
      "  \"\"\"Entry point for launching an IPython kernel.\n"
     ]
    }
   ],
   "source": [
    "m = pd.concat([station_data,m],axis = 1, join = 'inner',join_axes = [station_data.ID])"
   ]
  },
  {
   "cell_type": "code",
   "execution_count": 71,
   "metadata": {},
   "outputs": [],
   "source": [
    "m = m[['Station Name','dock_diff','cost']]"
   ]
  },
  {
   "cell_type": "code",
   "execution_count": 72,
   "metadata": {},
   "outputs": [],
   "source": [
    "m['cost'] = m['cost'].apply(lambda x: \"${:.1f}k\".format((x/1000)))"
   ]
  },
  {
   "cell_type": "code",
   "execution_count": 75,
   "metadata": {},
   "outputs": [
    {
     "data": {
      "text/html": [
       "<div>\n",
       "<style scoped>\n",
       "    .dataframe tbody tr th:only-of-type {\n",
       "        vertical-align: middle;\n",
       "    }\n",
       "\n",
       "    .dataframe tbody tr th {\n",
       "        vertical-align: top;\n",
       "    }\n",
       "\n",
       "    .dataframe thead th {\n",
       "        text-align: right;\n",
       "    }\n",
       "</style>\n",
       "<table border=\"1\" class=\"dataframe\">\n",
       "  <thead>\n",
       "    <tr style=\"text-align: right;\">\n",
       "      <th></th>\n",
       "      <th>Station Name</th>\n",
       "      <th>dock_diff</th>\n",
       "      <th>cost</th>\n",
       "    </tr>\n",
       "    <tr>\n",
       "      <th>ID</th>\n",
       "      <th></th>\n",
       "      <th></th>\n",
       "      <th></th>\n",
       "    </tr>\n",
       "  </thead>\n",
       "  <tbody>\n",
       "    <tr>\n",
       "      <td>418</td>\n",
       "      <td>Carpenter St &amp; 63rd St</td>\n",
       "      <td>-44.0</td>\n",
       "      <td>$-17.6k</td>\n",
       "    </tr>\n",
       "    <tr>\n",
       "      <td>249</td>\n",
       "      <td>Claremont Ave &amp; Hirsch St</td>\n",
       "      <td>-24.0</td>\n",
       "      <td>$-9.6k</td>\n",
       "    </tr>\n",
       "    <tr>\n",
       "      <td>322</td>\n",
       "      <td>Clark St &amp; Elm St</td>\n",
       "      <td>-36.0</td>\n",
       "      <td>$-14.4k</td>\n",
       "    </tr>\n",
       "    <tr>\n",
       "      <td>168</td>\n",
       "      <td>Pulaski Rd &amp; Lake St</td>\n",
       "      <td>-36.0</td>\n",
       "      <td>$-14.4k</td>\n",
       "    </tr>\n",
       "    <tr>\n",
       "      <td>316</td>\n",
       "      <td>Racine Ave &amp; Congress Pkwy</td>\n",
       "      <td>-36.0</td>\n",
       "      <td>$-14.4k</td>\n",
       "    </tr>\n",
       "    <tr>\n",
       "      <td>537</td>\n",
       "      <td>Ogden Ave &amp; Roosevelt Rd</td>\n",
       "      <td>-20.0</td>\n",
       "      <td>$-8.0k</td>\n",
       "    </tr>\n",
       "    <tr>\n",
       "      <td>300</td>\n",
       "      <td>Clark St &amp; 9th St (AMLI)</td>\n",
       "      <td>-36.0</td>\n",
       "      <td>$-14.4k</td>\n",
       "    </tr>\n",
       "    <tr>\n",
       "      <td>75</td>\n",
       "      <td>Austin Blvd &amp; Chicago Ave</td>\n",
       "      <td>36.0</td>\n",
       "      <td>$14.4k</td>\n",
       "    </tr>\n",
       "    <tr>\n",
       "      <td>480</td>\n",
       "      <td>Clark St &amp; Touhy Ave</td>\n",
       "      <td>-36.0</td>\n",
       "      <td>$-14.4k</td>\n",
       "    </tr>\n",
       "    <tr>\n",
       "      <td>334</td>\n",
       "      <td>Morgan St &amp; Polk St</td>\n",
       "      <td>-36.0</td>\n",
       "      <td>$-14.4k</td>\n",
       "    </tr>\n",
       "  </tbody>\n",
       "</table>\n",
       "</div>"
      ],
      "text/plain": [
       "                   Station Name  dock_diff     cost\n",
       "ID                                                 \n",
       "418      Carpenter St & 63rd St      -44.0  $-17.6k\n",
       "249   Claremont Ave & Hirsch St      -24.0   $-9.6k\n",
       "322           Clark St & Elm St      -36.0  $-14.4k\n",
       "168        Pulaski Rd & Lake St      -36.0  $-14.4k\n",
       "316  Racine Ave & Congress Pkwy      -36.0  $-14.4k\n",
       "537    Ogden Ave & Roosevelt Rd      -20.0   $-8.0k\n",
       "300    Clark St & 9th St (AMLI)      -36.0  $-14.4k\n",
       "75    Austin Blvd & Chicago Ave       36.0   $14.4k\n",
       "480        Clark St & Touhy Ave      -36.0  $-14.4k\n",
       "334         Morgan St & Polk St      -36.0  $-14.4k"
      ]
     },
     "execution_count": 75,
     "metadata": {},
     "output_type": "execute_result"
    }
   ],
   "source": [
    "m.head(10)"
   ]
  }
 ],
 "metadata": {
  "kernelspec": {
   "display_name": "Python 3",
   "language": "python",
   "name": "python3"
  },
  "language_info": {
   "codemirror_mode": {
    "name": "ipython",
    "version": 3
   },
   "file_extension": ".py",
   "mimetype": "text/x-python",
   "name": "python",
   "nbconvert_exporter": "python",
   "pygments_lexer": "ipython3",
   "version": "3.7.4"
  }
 },
 "nbformat": 4,
 "nbformat_minor": 2
}
